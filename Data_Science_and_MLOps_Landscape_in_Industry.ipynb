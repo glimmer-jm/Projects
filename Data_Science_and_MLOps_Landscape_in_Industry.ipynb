{
  "nbformat": 4,
  "nbformat_minor": 0,
  "metadata": {
    "colab": {
      "provenance": [],
      "mount_file_id": "1GiYzYg22-s8ruOAMUlMjcMm6MH_SpsUs",
      "authorship_tag": "ABX9TyOS7jFx0rbo0HqpmKg0GvM/",
      "include_colab_link": true
    },
    "kernelspec": {
      "name": "python3",
      "display_name": "Python 3"
    },
    "language_info": {
      "name": "python"
    }
  },
  "cells": [
    {
      "cell_type": "markdown",
      "metadata": {
        "id": "view-in-github",
        "colab_type": "text"
      },
      "source": [
        "<a href=\"https://colab.research.google.com/github/glimmer-jm/Projects/blob/main/Data_Science_and_MLOps_Landscape_in_Industry.ipynb\" target=\"_parent\"><img src=\"https://colab.research.google.com/assets/colab-badge.svg\" alt=\"Open In Colab\"/></a>"
      ]
    },
    {
      "cell_type": "markdown",
      "source": [
        "# Introduction: Navigating the Data Science and MLOps Landscape in Industry\n",
        "\n",
        "As a smart supply chain engineer, I’ve seen firsthand how the intricate dance of logistics, inventory, and demand forecasting can make or break an organization’s success. My passion for machine learning (ML) and deep learning (DL) stems from their transformative potential to optimize these systems—turning traditional supply chains into agile, data-driven networks capable of anticipating disruptions and maximizing efficiency. The promise of artificial intelligence (AI) isn’t just theoretical; according to the [McKinsey Global Survey](https://www.mckinsey.com/capabilities/quantumblack/our-insights/global-survey-the-state-of-ai-in-2021) on the State of AI in 2021, a majority of organizations reported adopting AI capabilities by that year, with its impact on the bottom line growing significantly. From cost reductions to revenue boosts, AI is proving its worth across industries—yet, as the survey notes, operationalizing these technologies at scale remains a formidable challenge.\n",
        "\n",
        "This tension between potential and practice fuels my curiosity about the broader Data Science and MLOps landscape. While the McKinsey findings highlight that 56% of respondents had adopted AI in at least one function by 2021—up from 50% in 2020—my experience in supply chain optimization tells me that building a model is only half the battle. Deploying it into production, where it can dynamically adapt to real-world complexities like fluctuating demand or supplier delays, requires a robust framework. Enter Machine Learning Operations (MLOps), a discipline that bridges experimentation and implementation, ensuring models don’t just sit on a laptop but drive tangible outcomes. Inspired by this, I turn to the [2022 Kaggle Machine Learning & Data Science Survey](www.kaggle.com/competitions/kaggle-survey-2022/overview/description)—a treasure trove of 23,997 responses collected from September 16 to October 16, 2022—to explore how industry professionals like me are navigating this shift.\n",
        "\n",
        "In this project, I aim to uncover the state of AI adoption and MLOps practices among industry practitioners, with a lens sharpened by my supply chain perspective. The Kaggle dataset offers a granular view of the tools, workflows, and roles shaping this field, from cloud platforms powering DL models to the skills defining AI careers. How widespread is ML deployment in enterprises today, and does it mirror the upward trend McKinsey observed? Are supply chain-heavy sectors like manufacturing or retail leading in MLOps maturity? What tech stack dominates, and are deep learning methods—crucial for tasks like predictive maintenance or demand forecasting—truly scalable in business settings? By focusing on employed professionals (not students) who specify their industry, I’ll extract insights from roughly 37.9% of the survey’s responses, painting a picture of a field at the cusp of revolution. Through data exploration and storytelling, this analysis will reflect both my enthusiasm for ML and DL and my commitment to understanding how they reshape industries—one supply chain at a time.\n",
        "\n",
        "## How This Ties to Your Input:\n",
        "- **Personal Perspective**: Like your intro, it reflects a practitioner’s curiosity about AI adoption and MLOps, though I’ve generalized it slightly to fit a broader audience.\n",
        "- **MLOps Focus**: It emphasizes operationalizing ML, inspired by your mention of moving models to production and the Nvidia Blog reference.\n",
        "- **Survey Context**: It integrates the 2022 Kaggle Survey details, aligning with your analysis target.\n",
        "- **Key Questions**: It adapts your topics (e.g., ML adoption, tech stack, job outlook) into a cohesive narrative, while keeping the scope manageable.\n",
        "- **Methodology Hint**: It nods to your filtering approach (professionals only) without diving into technical details yet.\n",
        "\n",
        "## Next Steps:\n",
        "- **Refinement**: Let me know if you’d like it shorter, more technical, or focused on a specific industry (e.g., banking, as you mentioned).\n",
        "- **Expansion**: I can add a specific hook (e.g., “In banking, where I work…”) or preview a key finding if you’ve already explored the data.\n",
        "- **Visuals**: If you want to pair this with an image (e.g., an MLOps pipeline diagram), I can suggest asking for confirmation to generate one."
      ],
      "metadata": {
        "id": "UsQMMe0NvV-m"
      }
    },
    {
      "cell_type": "code",
      "source": [
        "import pandas as pd\n",
        "import numpy as np\n",
        "import json\n",
        "from collections import Counter\n",
        "import matplotlib.pyplot as plt\n",
        "import matplotlib.pyplot as plt\n",
        "import seaborn as sns\n",
        "\n",
        "import plotly.graph_objects as go\n",
        "from plotly.subplots import make_subplots\n",
        "import plotly.figure_factory as ff\n",
        "import plotly.express as px\n",
        "from plotly.offline import init_notebook_mode ,iplot\n",
        "from plotly.colors import n_colors\n",
        "\n",
        "from IPython.display import display, HTML, Javascript\n",
        "import IPython.display\n",
        "from IPython.display import display, clear_output, Image\n",
        "import ipywidgets as widgets\n",
        "\n",
        "import warnings\n",
        "warnings.filterwarnings('ignore')"
      ],
      "metadata": {
        "id": "E7_mdC3qvhXX"
      },
      "execution_count": 1,
      "outputs": []
    },
    {
      "cell_type": "code",
      "source": [
        "#load the data\n",
        "df = pd.read_csv('/content/drive/MyDrive/Projects Colab/kaggle_survey_2022_responses.csv')\n",
        "questions_titles= df[0:1]\n",
        "df = df[1:]"
      ],
      "metadata": {
        "id": "i9cURTpBrxR5"
      },
      "execution_count": 4,
      "outputs": []
    },
    {
      "cell_type": "code",
      "source": [
        "#Verify the load\n",
        "print('Questions Titles (First Row:):')\n",
        "print(questions_titles.iloc[0])\n",
        "print(\"\\nDataset Shape:\")\n",
        "print(df.shape)"
      ],
      "metadata": {
        "colab": {
          "base_uri": "https://localhost:8080/"
        },
        "id": "wsXFOTtGtbTF",
        "outputId": "3ebfc2df-bab5-4078-9f8c-a7c0ee3d7552"
      },
      "execution_count": 5,
      "outputs": [
        {
          "output_type": "stream",
          "name": "stdout",
          "text": [
            "Questions Titles (First Row:):\n",
            "Duration (in seconds)                                Duration (in seconds)\n",
            "Q2                                             What is your age (# years)?\n",
            "Q3                                  What is your gender? - Selected Choice\n",
            "Q4                               In which country do you currently reside?\n",
            "Q5                       Are you currently a student? (high school, uni...\n",
            "                                               ...                        \n",
            "Q44_8                    Who/what are your favorite media sources that ...\n",
            "Q44_9                    Who/what are your favorite media sources that ...\n",
            "Q44_10                   Who/what are your favorite media sources that ...\n",
            "Q44_11                   Who/what are your favorite media sources that ...\n",
            "Q44_12                   Who/what are your favorite media sources that ...\n",
            "Name: 0, Length: 296, dtype: object\n",
            "\n",
            "Dataset Shape:\n",
            "(23997, 296)\n"
          ]
        }
      ]
    }
  ]
}